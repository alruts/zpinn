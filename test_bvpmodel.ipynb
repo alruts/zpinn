{
 "cells": [
  {
   "cell_type": "code",
   "execution_count": 1,
   "metadata": {},
   "outputs": [],
   "source": [
    "from src.zpinn.dataio import PressureDataset, DomainSampler, BoundarySampler\n",
    "\n",
    "\n",
    "data_path = r\"C:\\Users\\STNj\\dtu\\thesis\\code\\data\\processed\\inf_baffle.pkl\"\n",
    "dataset = PressureDataset(data_path)\n",
    "dataloader = dataset.get_dataloader(batch_size=16, shuffle=True)\n",
    "data_iterator = iter(dataloader)"
   ]
  },
  {
   "cell_type": "code",
   "execution_count": 2,
   "metadata": {},
   "outputs": [
    {
     "data": {
      "text/plain": [
       "{'x': Array([0.89965916, 0.54451245, 0.7551072 , 0.30612645, 1.0907483 ,\n",
       "        0.527942  , 0.7002718 , 0.7091689 , 0.5983184 , 1.2476665 ,\n",
       "        0.7626662 , 0.17276604, 1.2757558 , 0.53877735, 0.14619748,\n",
       "        0.11825243], dtype=float32),\n",
       " 'y': Array([1.2415363 , 1.2588104 , 0.89180833, 0.20118618, 1.3057855 ,\n",
       "        0.03785117, 1.3305675 , 0.7668254 , 0.07583634, 0.86100835,\n",
       "        0.76941425, 1.3311567 , 0.90818405, 0.5990197 , 0.21758191,\n",
       "        0.7012175 ], dtype=float32),\n",
       " 'z': Array([ 0.26074818,  1.0214976 ,  1.5902928 ,  0.03995725,  9.103167  ,\n",
       "         9.785904  ,  0.3121819 , 11.8482485 ,  6.5587196 ,  0.3870913 ,\n",
       "        13.150018  , 13.229212  , 12.3033085 ,  6.931617  , 10.591384  ,\n",
       "         8.704803  ], dtype=float32),\n",
       " 'f': Array([-1.0200034, -1.0198369, -1.0201769, -1.0200241, -1.0201287,\n",
       "        -1.0200919, -1.0199314, -1.0199411, -1.0201936, -1.0201573,\n",
       "        -1.019948 , -1.0200167, -1.0199752, -1.0201061, -1.0200771,\n",
       "        -1.0200541], dtype=float32)}"
      ]
     },
     "execution_count": 2,
     "metadata": {},
     "output_type": "execute_result"
    }
   ],
   "source": [
    "dom_sampler = DomainSampler(\n",
    "    batch_size=16,\n",
    "    limits=dict(x=(0, 1), y=(0, 1), z=(0, 1), f=(0, 1)),\n",
    "    distributions=dict(x=\"uniform\", y=\"uniform\", z=\"uniform\", f=\"uniform\"),\n",
    "    transforms=dataset.transforms,\n",
    ")\n",
    "\n",
    "dom_iterator = iter(dom_sampler)\n",
    "next(dom_iterator)"
   ]
  },
  {
   "cell_type": "code",
   "execution_count": 3,
   "metadata": {},
   "outputs": [],
   "source": [
    "bnd_sampler = BoundarySampler(\n",
    "    batch_size=16,\n",
    "    limits=dict(x=(0, 1), y=(0, 1), z=(0, 0), f=(0, 1)),\n",
    "    distributions=dict(x=\"grid\", y=\"grid\", z=\"uniform\", f=\"uniform\"),\n",
    "    transforms=dataset.transforms,\n",
    ")\n",
    "\n",
    "bnd_iterator = iter(bnd_sampler)"
   ]
  },
  {
   "cell_type": "code",
   "execution_count": 4,
   "metadata": {},
   "outputs": [],
   "source": [
    "dataset.transforms\n",
    "\n",
    "\n",
    "transforms = dict(\n",
    "    x0=dataset.transforms[\"x\"][0],\n",
    "    xc=dataset.transforms[\"x\"][1],\n",
    "    y0=dataset.transforms[\"y\"][0],\n",
    "    yc=dataset.transforms[\"y\"][1],\n",
    "    z0=dataset.transforms[\"z\"][0],\n",
    "    zc=dataset.transforms[\"z\"][1],\n",
    "    f0=dataset.transforms[\"f\"][0],\n",
    "    fc=dataset.transforms[\"f\"][1],\n",
    "    a0=dataset.transforms[\"real_pressure\"][0],\n",
    "    ac=dataset.transforms[\"real_pressure\"][1],\n",
    "    b0=dataset.transforms[\"imag_pressure\"][0],\n",
    "    bc=dataset.transforms[\"imag_pressure\"][1],\n",
    ")"
   ]
  },
  {
   "cell_type": "code",
   "execution_count": 5,
   "metadata": {},
   "outputs": [],
   "source": [
    "from src.zpinn.models import SIREN, BVPModel\n",
    "\n",
    "\n",
    "model = SIREN.SIREN(\n",
    "    in_features=4,\n",
    "    out_features=2,\n",
    "    hidden_features=256,\n",
    "    hidden_layers=3,\n",
    "    outermost_linear=True,\n",
    ")\n",
    "\n",
    "bvp_model = BVPModel.BVPModel(\n",
    "    model=model,\n",
    "    transforms=transforms,\n",
    "    impedance_model=\"single_freq\",\n",
    ")\n",
    "\n",
    "params = bvp_model.parameters()\n",
    "coeffs = bvp_model.coefficients"
   ]
  },
  {
   "cell_type": "code",
   "execution_count": 6,
   "metadata": {},
   "outputs": [
    {
     "data": {
      "text/plain": [
       "(Array([ 13.896487 ,  15.151459 ,  10.504659 ,  -7.150683 , -19.713139 ,\n",
       "         -3.3349352,  -5.4443455,   1.6721005,  -7.265933 , -20.758698 ,\n",
       "        -21.95194  , -12.516868 ,  -6.036775 , -11.564328 , -11.95933  ,\n",
       "          3.715053 ], dtype=float32),\n",
       " Array([-10.273615  ,  -8.151482  ,   1.2610406 ,  -3.8613884 ,\n",
       "          6.1925154 ,  -0.72648686,  -4.5691957 ,  -0.1657106 ,\n",
       "         -1.697756  ,   3.3997982 ,  15.014544  ,  -6.9602947 ,\n",
       "        -10.531594  , -19.61528   , -23.171238  , -12.085783  ],      dtype=float32))"
      ]
     },
     "execution_count": 6,
     "metadata": {},
     "output_type": "execute_result"
    }
   ],
   "source": [
    "from jax import vmap\n",
    "\n",
    "r_net = bvp_model.r_net\n",
    "x, y, z, f = next(dom_iterator).values()\n",
    "vmap(bvp_model.r_net, in_axes=(None, *[0] * 4))(params, *(x, y, z, f))"
   ]
  },
  {
   "cell_type": "code",
   "execution_count": 7,
   "metadata": {},
   "outputs": [
    {
     "data": {
      "text/plain": [
       "(Array(4.005037e-09, dtype=float32), Array(2.2584195e-09, dtype=float32))"
      ]
     },
     "execution_count": 7,
     "metadata": {},
     "output_type": "execute_result"
    }
   ],
   "source": [
    "# test individual models\n",
    "\n",
    "bvp_model.p_loss(params, next(data_iterator))\n",
    "bvp_model.r_loss(params, next(dom_iterator))\n",
    "bvp_model.z_loss(params, coeffs, next(bnd_iterator))"
   ]
  },
  {
   "cell_type": "code",
   "execution_count": 8,
   "metadata": {},
   "outputs": [
    {
     "data": {
      "text/plain": [
       "(Array([ 0.04716443,  0.03689361,  0.02221077,  0.03747791,  0.04307295,\n",
       "        -0.00032674,  0.01515444,  0.06518535,  0.04870435,  0.05693201,\n",
       "         0.07002046,  0.04120278, -0.0098152 ,  0.02148196,  0.00976468,\n",
       "         0.05594826], dtype=float32),\n",
       " Array([-0.01987108, -0.00024862, -0.02182606, -0.04618606, -0.03799538,\n",
       "        -0.01071216, -0.04871527, -0.01985353, -0.01966653, -0.00612449,\n",
       "        -0.01326989, -0.02304624, -0.03284209, -0.026276  , -0.01182558,\n",
       "        -0.03974533], dtype=float32))"
      ]
     },
     "execution_count": 8,
     "metadata": {},
     "output_type": "execute_result"
    }
   ],
   "source": [
    "from jax import vmap\n",
    "coords, gt = next(data_iterator)  # unpack the data batch\n",
    "f, x, y, z = coords.values()\n",
    "\n",
    "vmap(bvp_model.p_net, in_axes=(None, *[0] * 4))(params, *(x, y, z, f))"
   ]
  },
  {
   "cell_type": "code",
   "execution_count": 9,
   "metadata": {},
   "outputs": [
    {
     "data": {
      "text/plain": [
       "(Array(199.24384, dtype=float32), Array(3857.212, dtype=float32))"
      ]
     },
     "execution_count": 9,
     "metadata": {},
     "output_type": "execute_result"
    }
   ],
   "source": [
    "# bvp_model.p_loss(params, (coords, gt))\n",
    "bvp_model.r_loss(params, next(dom_iterator))"
   ]
  },
  {
   "cell_type": "code",
   "execution_count": 10,
   "metadata": {},
   "outputs": [
    {
     "data": {
      "text/plain": [
       "{'data_re': Array(0.8149791, dtype=float32),\n",
       " 'data_im': Array(0.7857977, dtype=float32),\n",
       " 'pde_re': Array(393.76633, dtype=float32),\n",
       " 'pde_im': Array(3131.1226, dtype=float32),\n",
       " 'bc_re': Array(4.000836e-09, dtype=float32),\n",
       " 'bc_im': Array(2.253595e-09, dtype=float32)}"
      ]
     },
     "execution_count": 10,
     "metadata": {},
     "output_type": "execute_result"
    }
   ],
   "source": [
    "bvp_model.losses(\n",
    "    params,\n",
    "    coeffs,\n",
    "    next(data_iterator),\n",
    "    next(dom_iterator),\n",
    "    next(bnd_iterator),\n",
    ")"
   ]
  },
  {
   "cell_type": "code",
   "execution_count": 11,
   "metadata": {},
   "outputs": [
    {
     "data": {
      "text/plain": [
       "{'alpha': 0.0, 'beta': 0.0}"
      ]
     },
     "execution_count": 11,
     "metadata": {},
     "output_type": "execute_result"
    }
   ],
   "source": [
    "bvp_model.coefficients"
   ]
  },
  {
   "cell_type": "code",
   "execution_count": 13,
   "metadata": {},
   "outputs": [
    {
     "ename": "TypeError",
     "evalue": "Argument '<bound method BVPModel.losses of BVPModel(criterion=<function <lambda> at 0x0000016827EFF4C0>, coefficients={'alpha': 0.0, 'beta': 0.0}, model=SIREN(\n  layers=[\n    SineLayer(\n      omega_0=30,\n      is_first=True,\n      in_features=4,\n      out_features=256,\n      linear=Linear(\n        weight=f32[256,4],\n        bias=f32[256],\n        in_features=4,\n        out_features=256,\n        use_bias=True\n      ),\n      weight=f32[256,4]\n    ),\n    SineLayer(\n      omega_0=30.0,\n      is_first=False,\n      in_features=256,\n      out_features=256,\n      linear=Linear(\n        weight=f32[256,256],\n        bias=f32[256],\n        in_features=256,\n        out_features=256,\n        use_bias=True\n      ),\n      weight=f32[256,256]\n    ),\n    SineLayer(\n      omega_0=30.0,\n      is_first=False,\n      in_features=256,\n      out_features=256,\n      linear=Linear(\n        weight=f32[256,256],\n        bias=f32[256],\n        in_features=256,\n        out_features=256,\n        use_bias=True\n      ),\n      weight=f32[256,256]\n    ),\n    SineLayer(\n      omega_0=30.0,\n      is_first=False,\n      in_features=256,\n      out_features=256,\n      linear=Linear(\n        weight=f32[256,256],\n        bias=f32[256],\n        in_features=256,\n        out_features=256,\n        use_bias=True\n      ),\n      weight=f32[256,256]\n    ),\n    Linear(\n      weight=f32[2,256],\n      bias=f32[2],\n      in_features=256,\n      out_features=2,\n      use_bias=True\n    )\n  ]\n), x0=0.0, xc=0.75, y0=0.0, yc=0.75, z0=0.0, zc=0.07, a0=-0.058731083193746154, ac=0.8051005708866225, b0=-0.18135189435224625, bc=0.86690303980624, impedance_model=<function constant_impedance at 0x0000016827EFF6A0>)>' of type <class 'method'> is not a valid JAX type.",
     "output_type": "error",
     "traceback": [
      "\u001b[1;31m---------------------------------------------------------------------------\u001b[0m",
      "\u001b[1;31mTypeError\u001b[0m                                 Traceback (most recent call last)",
      "Cell \u001b[1;32mIn[13], line 6\u001b[0m\n\u001b[0;32m      1\u001b[0m batches \u001b[38;5;241m=\u001b[39m \u001b[38;5;28mdict\u001b[39m(\n\u001b[0;32m      2\u001b[0m     dat_batch\u001b[38;5;241m=\u001b[39m\u001b[38;5;28mnext\u001b[39m(data_iterator),\n\u001b[0;32m      3\u001b[0m     dom_batch\u001b[38;5;241m=\u001b[39m\u001b[38;5;28mnext\u001b[39m(dom_iterator),\n\u001b[0;32m      4\u001b[0m     bnd_batch\u001b[38;5;241m=\u001b[39m\u001b[38;5;28mnext\u001b[39m(bnd_iterator),\n\u001b[0;32m      5\u001b[0m )\n\u001b[1;32m----> 6\u001b[0m w \u001b[38;5;241m=\u001b[39m \u001b[43mbvp_model\u001b[49m\u001b[38;5;241;43m.\u001b[39;49m\u001b[43mcompute_weights\u001b[49m\u001b[43m(\u001b[49m\u001b[38;5;241;43m*\u001b[39;49m\u001b[38;5;241;43m*\u001b[39;49m\u001b[43mbatches\u001b[49m\u001b[43m)\u001b[49m\n",
      "File \u001b[1;32mc:\\Users\\STNj\\dtu\\thesis\\zpinn\\src\\zpinn\\models\\BVPModel.py:196\u001b[0m, in \u001b[0;36mBVPModel.compute_weights\u001b[1;34m(self, dat_batch, dom_batch, bnd_batch)\u001b[0m\n\u001b[0;32m    193\u001b[0m \u001b[38;5;250m\u001b[39m\u001b[38;5;124;03m\"\"\"Computes the lambda weights for each loss.\"\"\"\u001b[39;00m\n\u001b[0;32m    195\u001b[0m \u001b[38;5;66;03m# Compute the gradient of each loss w.r.t. the parameters\u001b[39;00m\n\u001b[1;32m--> 196\u001b[0m grads \u001b[38;5;241m=\u001b[39m \u001b[43mjax\u001b[49m\u001b[38;5;241;43m.\u001b[39;49m\u001b[43mjacrev\u001b[49m\u001b[43m(\u001b[49m\u001b[38;5;28;43mself\u001b[39;49m\u001b[38;5;241;43m.\u001b[39;49m\u001b[43mlosses\u001b[49m\u001b[43m,\u001b[49m\u001b[43m \u001b[49m\u001b[43margnums\u001b[49m\u001b[38;5;241;43m=\u001b[39;49m\u001b[38;5;241;43m0\u001b[39;49m\u001b[43m)\u001b[49m\u001b[43m(\u001b[49m\n\u001b[0;32m    197\u001b[0m \u001b[43m    \u001b[49m\u001b[38;5;28;43mself\u001b[39;49m\u001b[38;5;241;43m.\u001b[39;49m\u001b[43mlosses\u001b[49m\u001b[43m,\u001b[49m\u001b[43m \u001b[49m\u001b[38;5;28;43mself\u001b[39;49m\u001b[38;5;241;43m.\u001b[39;49m\u001b[43mcoefficients\u001b[49m\u001b[43m,\u001b[49m\u001b[43m \u001b[49m\u001b[43mdat_batch\u001b[49m\u001b[43m,\u001b[49m\u001b[43m \u001b[49m\u001b[43mdom_batch\u001b[49m\u001b[43m,\u001b[49m\u001b[43m \u001b[49m\u001b[43mbnd_batch\u001b[49m\n\u001b[0;32m    198\u001b[0m \u001b[43m\u001b[49m\u001b[43m)\u001b[49m\n\u001b[0;32m    200\u001b[0m \u001b[38;5;66;03m# Compute the grad norm of each loss\u001b[39;00m\n\u001b[0;32m    201\u001b[0m grad_norm_dict \u001b[38;5;241m=\u001b[39m {}\n",
      "File \u001b[1;32mc:\\Users\\STNj\\.conda\\envs\\pyimpedance\\Lib\\site-packages\\jax\\_src\\api.py:939\u001b[0m, in \u001b[0;36mjacrev.<locals>.jacfun\u001b[1;34m(*args, **kwargs)\u001b[0m\n\u001b[0;32m    936\u001b[0m f \u001b[38;5;241m=\u001b[39m lu\u001b[38;5;241m.\u001b[39mwrap_init(fun, kwargs)\n\u001b[0;32m    937\u001b[0m f_partial, dyn_args \u001b[38;5;241m=\u001b[39m argnums_partial(f, argnums, args,\n\u001b[0;32m    938\u001b[0m                                       require_static_args_hashable\u001b[38;5;241m=\u001b[39m\u001b[38;5;28;01mFalse\u001b[39;00m)\n\u001b[1;32m--> 939\u001b[0m \u001b[43mtree_map\u001b[49m\u001b[43m(\u001b[49m\u001b[43mpartial\u001b[49m\u001b[43m(\u001b[49m\u001b[43m_check_input_dtype_jacrev\u001b[49m\u001b[43m,\u001b[49m\u001b[43m \u001b[49m\u001b[43mholomorphic\u001b[49m\u001b[43m,\u001b[49m\u001b[43m \u001b[49m\u001b[43mallow_int\u001b[49m\u001b[43m)\u001b[49m\u001b[43m,\u001b[49m\u001b[43m \u001b[49m\u001b[43mdyn_args\u001b[49m\u001b[43m)\u001b[49m\n\u001b[0;32m    940\u001b[0m \u001b[38;5;28;01mif\u001b[39;00m \u001b[38;5;129;01mnot\u001b[39;00m has_aux:\n\u001b[0;32m    941\u001b[0m   y, pullback \u001b[38;5;241m=\u001b[39m _vjp(f_partial, \u001b[38;5;241m*\u001b[39mdyn_args)\n",
      "File \u001b[1;32mc:\\Users\\STNj\\.conda\\envs\\pyimpedance\\Lib\\site-packages\\jax\\_src\\tree_util.py:244\u001b[0m, in \u001b[0;36mtree_map\u001b[1;34m(f, tree, is_leaf, *rest)\u001b[0m\n\u001b[0;32m    242\u001b[0m leaves, treedef \u001b[38;5;241m=\u001b[39m tree_flatten(tree, is_leaf)\n\u001b[0;32m    243\u001b[0m all_leaves \u001b[38;5;241m=\u001b[39m [leaves] \u001b[38;5;241m+\u001b[39m [treedef\u001b[38;5;241m.\u001b[39mflatten_up_to(r) \u001b[38;5;28;01mfor\u001b[39;00m r \u001b[38;5;129;01min\u001b[39;00m rest]\n\u001b[1;32m--> 244\u001b[0m \u001b[38;5;28;01mreturn\u001b[39;00m \u001b[43mtreedef\u001b[49m\u001b[38;5;241;43m.\u001b[39;49m\u001b[43munflatten\u001b[49m\u001b[43m(\u001b[49m\u001b[43mf\u001b[49m\u001b[43m(\u001b[49m\u001b[38;5;241;43m*\u001b[39;49m\u001b[43mxs\u001b[49m\u001b[43m)\u001b[49m\u001b[43m \u001b[49m\u001b[38;5;28;43;01mfor\u001b[39;49;00m\u001b[43m \u001b[49m\u001b[43mxs\u001b[49m\u001b[43m \u001b[49m\u001b[38;5;129;43;01min\u001b[39;49;00m\u001b[43m \u001b[49m\u001b[38;5;28;43mzip\u001b[39;49m\u001b[43m(\u001b[49m\u001b[38;5;241;43m*\u001b[39;49m\u001b[43mall_leaves\u001b[49m\u001b[43m)\u001b[49m\u001b[43m)\u001b[49m\n",
      "File \u001b[1;32mc:\\Users\\STNj\\.conda\\envs\\pyimpedance\\Lib\\site-packages\\jax\\_src\\tree_util.py:244\u001b[0m, in \u001b[0;36m<genexpr>\u001b[1;34m(.0)\u001b[0m\n\u001b[0;32m    242\u001b[0m leaves, treedef \u001b[38;5;241m=\u001b[39m tree_flatten(tree, is_leaf)\n\u001b[0;32m    243\u001b[0m all_leaves \u001b[38;5;241m=\u001b[39m [leaves] \u001b[38;5;241m+\u001b[39m [treedef\u001b[38;5;241m.\u001b[39mflatten_up_to(r) \u001b[38;5;28;01mfor\u001b[39;00m r \u001b[38;5;129;01min\u001b[39;00m rest]\n\u001b[1;32m--> 244\u001b[0m \u001b[38;5;28;01mreturn\u001b[39;00m treedef\u001b[38;5;241m.\u001b[39munflatten(\u001b[43mf\u001b[49m\u001b[43m(\u001b[49m\u001b[38;5;241;43m*\u001b[39;49m\u001b[43mxs\u001b[49m\u001b[43m)\u001b[49m \u001b[38;5;28;01mfor\u001b[39;00m xs \u001b[38;5;129;01min\u001b[39;00m \u001b[38;5;28mzip\u001b[39m(\u001b[38;5;241m*\u001b[39mall_leaves))\n",
      "File \u001b[1;32mc:\\Users\\STNj\\.conda\\envs\\pyimpedance\\Lib\\site-packages\\jax\\_src\\api.py:764\u001b[0m, in \u001b[0;36m_check_input_dtype_revderiv\u001b[1;34m(name, holomorphic, allow_int, x)\u001b[0m\n\u001b[0;32m    763\u001b[0m \u001b[38;5;28;01mdef\u001b[39;00m \u001b[38;5;21m_check_input_dtype_revderiv\u001b[39m(name, holomorphic, allow_int, x):\n\u001b[1;32m--> 764\u001b[0m   \u001b[43mdispatch\u001b[49m\u001b[38;5;241;43m.\u001b[39;49m\u001b[43mcheck_arg\u001b[49m\u001b[43m(\u001b[49m\u001b[43mx\u001b[49m\u001b[43m)\u001b[49m\n\u001b[0;32m    765\u001b[0m   aval \u001b[38;5;241m=\u001b[39m core\u001b[38;5;241m.\u001b[39mget_aval(x)\n\u001b[0;32m    766\u001b[0m   \u001b[38;5;28;01mif\u001b[39;00m holomorphic:\n",
      "File \u001b[1;32mc:\\Users\\STNj\\.conda\\envs\\pyimpedance\\Lib\\site-packages\\jax\\_src\\dispatch.py:289\u001b[0m, in \u001b[0;36mcheck_arg\u001b[1;34m(arg)\u001b[0m\n\u001b[0;32m    287\u001b[0m \u001b[38;5;28;01mdef\u001b[39;00m \u001b[38;5;21mcheck_arg\u001b[39m(arg: Any):\n\u001b[0;32m    288\u001b[0m   \u001b[38;5;28;01mif\u001b[39;00m \u001b[38;5;129;01mnot\u001b[39;00m (\u001b[38;5;28misinstance\u001b[39m(arg, core\u001b[38;5;241m.\u001b[39mTracer) \u001b[38;5;129;01mor\u001b[39;00m core\u001b[38;5;241m.\u001b[39mvalid_jaxtype(arg)):\n\u001b[1;32m--> 289\u001b[0m     \u001b[38;5;28;01mraise\u001b[39;00m \u001b[38;5;167;01mTypeError\u001b[39;00m(\u001b[38;5;124mf\u001b[39m\u001b[38;5;124m\"\u001b[39m\u001b[38;5;124mArgument \u001b[39m\u001b[38;5;124m'\u001b[39m\u001b[38;5;132;01m{\u001b[39;00marg\u001b[38;5;132;01m}\u001b[39;00m\u001b[38;5;124m'\u001b[39m\u001b[38;5;124m of type \u001b[39m\u001b[38;5;132;01m{\u001b[39;00m\u001b[38;5;28mtype\u001b[39m(arg)\u001b[38;5;132;01m}\u001b[39;00m\u001b[38;5;124m is not a valid \u001b[39m\u001b[38;5;124m\"\u001b[39m\n\u001b[0;32m    290\u001b[0m                     \u001b[38;5;124m\"\u001b[39m\u001b[38;5;124mJAX type.\u001b[39m\u001b[38;5;124m\"\u001b[39m)\n",
      "\u001b[1;31mTypeError\u001b[0m: Argument '<bound method BVPModel.losses of BVPModel(criterion=<function <lambda> at 0x0000016827EFF4C0>, coefficients={'alpha': 0.0, 'beta': 0.0}, model=SIREN(\n  layers=[\n    SineLayer(\n      omega_0=30,\n      is_first=True,\n      in_features=4,\n      out_features=256,\n      linear=Linear(\n        weight=f32[256,4],\n        bias=f32[256],\n        in_features=4,\n        out_features=256,\n        use_bias=True\n      ),\n      weight=f32[256,4]\n    ),\n    SineLayer(\n      omega_0=30.0,\n      is_first=False,\n      in_features=256,\n      out_features=256,\n      linear=Linear(\n        weight=f32[256,256],\n        bias=f32[256],\n        in_features=256,\n        out_features=256,\n        use_bias=True\n      ),\n      weight=f32[256,256]\n    ),\n    SineLayer(\n      omega_0=30.0,\n      is_first=False,\n      in_features=256,\n      out_features=256,\n      linear=Linear(\n        weight=f32[256,256],\n        bias=f32[256],\n        in_features=256,\n        out_features=256,\n        use_bias=True\n      ),\n      weight=f32[256,256]\n    ),\n    SineLayer(\n      omega_0=30.0,\n      is_first=False,\n      in_features=256,\n      out_features=256,\n      linear=Linear(\n        weight=f32[256,256],\n        bias=f32[256],\n        in_features=256,\n        out_features=256,\n        use_bias=True\n      ),\n      weight=f32[256,256]\n    ),\n    Linear(\n      weight=f32[2,256],\n      bias=f32[2],\n      in_features=256,\n      out_features=2,\n      use_bias=True\n    )\n  ]\n), x0=0.0, xc=0.75, y0=0.0, yc=0.75, z0=0.0, zc=0.07, a0=-0.058731083193746154, ac=0.8051005708866225, b0=-0.18135189435224625, bc=0.86690303980624, impedance_model=<function constant_impedance at 0x0000016827EFF6A0>)>' of type <class 'method'> is not a valid JAX type."
     ]
    }
   ],
   "source": [
    "batches = dict(\n",
    "    dat_batch=next(data_iterator),\n",
    "    dom_batch=next(dom_iterator),\n",
    "    bnd_batch=next(bnd_iterator),\n",
    ")\n",
    "w = bvp_model.compute_weights(**batches)"
   ]
  }
 ],
 "metadata": {
  "kernelspec": {
   "display_name": "pyimpedance",
   "language": "python",
   "name": "python3"
  },
  "language_info": {
   "codemirror_mode": {
    "name": "ipython",
    "version": 3
   },
   "file_extension": ".py",
   "mimetype": "text/x-python",
   "name": "python",
   "nbconvert_exporter": "python",
   "pygments_lexer": "ipython3",
   "version": "3.11.5"
  }
 },
 "nbformat": 4,
 "nbformat_minor": 2
}

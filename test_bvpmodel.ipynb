{
 "cells": [
  {
   "cell_type": "code",
   "execution_count": 14,
   "metadata": {},
   "outputs": [],
   "source": [
    "from src.zpinn.dataio import PressureDataset, DomainSampler, BoundarySampler\n",
    "\n",
    "\n",
    "data_path = r\"C:\\Users\\STNj\\dtu\\thesis\\code\\data\\processed\\inf_baffle.pkl\"\n",
    "dataset = PressureDataset(data_path)\n",
    "dataloader = dataset.get_dataloader(batch_size=16, shuffle=True)\n",
    "data_iterator = iter(dataloader)"
   ]
  },
  {
   "cell_type": "code",
   "execution_count": 15,
   "metadata": {},
   "outputs": [
    {
     "data": {
      "text/plain": [
       "{'x': Array([0.89965916, 0.54451245, 0.7551072 , 0.30612645, 1.0907483 ,\n",
       "        0.527942  , 0.7002718 , 0.7091689 , 0.5983184 , 1.2476665 ,\n",
       "        0.7626662 , 0.17276604, 1.2757558 , 0.53877735, 0.14619748,\n",
       "        0.11825243], dtype=float32),\n",
       " 'y': Array([1.2415363 , 1.2588104 , 0.89180833, 0.20118618, 1.3057855 ,\n",
       "        0.03785117, 1.3305675 , 0.7668254 , 0.07583634, 0.86100835,\n",
       "        0.76941425, 1.3311567 , 0.90818405, 0.5990197 , 0.21758191,\n",
       "        0.7012175 ], dtype=float32),\n",
       " 'z': Array([ 0.26074818,  1.0214976 ,  1.5902928 ,  0.03995725,  9.103167  ,\n",
       "         9.785904  ,  0.3121819 , 11.8482485 ,  6.5587196 ,  0.3870913 ,\n",
       "        13.150018  , 13.229212  , 12.3033085 ,  6.931617  , 10.591384  ,\n",
       "         8.704803  ], dtype=float32),\n",
       " 'f': Array([-1.0200034, -1.0198369, -1.0201769, -1.0200241, -1.0201287,\n",
       "        -1.0200919, -1.0199314, -1.0199411, -1.0201936, -1.0201573,\n",
       "        -1.019948 , -1.0200167, -1.0199752, -1.0201061, -1.0200771,\n",
       "        -1.0200541], dtype=float32)}"
      ]
     },
     "execution_count": 15,
     "metadata": {},
     "output_type": "execute_result"
    }
   ],
   "source": [
    "dom_sampler = DomainSampler(\n",
    "    batch_size=16,\n",
    "    limits=dict(x=(0, 1), y=(0, 1), z=(0, 1), f=(0, 1)),\n",
    "    distributions=dict(x=\"uniform\", y=\"uniform\", z=\"uniform\", f=\"uniform\"),\n",
    "    transforms=dataset.transforms,\n",
    ")\n",
    "\n",
    "dom_iterator = iter(dom_sampler)\n",
    "next(dom_iterator)"
   ]
  },
  {
   "cell_type": "code",
   "execution_count": 16,
   "metadata": {},
   "outputs": [],
   "source": [
    "bnd_sampler = BoundarySampler(\n",
    "    batch_size=16,\n",
    "    limits=dict(x=(0, 1), y=(0, 1), z=(0, 0), f=(0, 1)),\n",
    "    distributions=dict(x=\"grid\", y=\"grid\", z=\"uniform\", f=\"uniform\"),\n",
    "    transforms=dataset.transforms,\n",
    ")\n",
    "\n",
    "bnd_iterator = iter(bnd_sampler)"
   ]
  },
  {
   "cell_type": "code",
   "execution_count": 17,
   "metadata": {},
   "outputs": [],
   "source": [
    "dataset.transforms\n",
    "\n",
    "\n",
    "transforms = dict(\n",
    "    x0=dataset.transforms[\"x\"][0],\n",
    "    xc=dataset.transforms[\"x\"][1],\n",
    "    y0=dataset.transforms[\"y\"][0],\n",
    "    yc=dataset.transforms[\"y\"][1],\n",
    "    z0=dataset.transforms[\"z\"][0],\n",
    "    zc=dataset.transforms[\"z\"][1],\n",
    "    f0=dataset.transforms[\"f\"][0],\n",
    "    fc=dataset.transforms[\"f\"][1],\n",
    "    a0=dataset.transforms[\"real_pressure\"][0],\n",
    "    ac=dataset.transforms[\"real_pressure\"][1],\n",
    "    b0=dataset.transforms[\"imag_pressure\"][0],\n",
    "    bc=dataset.transforms[\"imag_pressure\"][1],\n",
    ")"
   ]
  },
  {
   "cell_type": "code",
   "execution_count": 18,
   "metadata": {},
   "outputs": [],
   "source": [
    "from src.zpinn.models import SIREN, BVPModel\n",
    "\n",
    "\n",
    "model = SIREN.SIREN(\n",
    "    in_features=4,\n",
    "    out_features=2,\n",
    "    hidden_features=256,\n",
    "    hidden_layers=3,\n",
    "    outermost_linear=True,\n",
    ")\n",
    "\n",
    "bvp_model = BVPModel.BVPModel(\n",
    "    model=model,\n",
    "    transforms=transforms,\n",
    "    impedance_model=\"single_freq\",\n",
    ")\n",
    "\n",
    "params = bvp_model.parameters()\n",
    "coeffs = bvp_model.coefficients"
   ]
  },
  {
   "cell_type": "code",
   "execution_count": 29,
   "metadata": {},
   "outputs": [
    {
     "data": {
      "text/plain": [
       "Array([-579.3683   ,   79.734436 , -173.08574  ,  309.32535  ,\n",
       "       -436.06314  ,  379.29288  , -118.4902   ,  -13.519647 ,\n",
       "        -28.325058 ,  -50.780792 ,  209.21278  ,  205.2106   ,\n",
       "         -4.0723944,  385.00708  , -113.67912  , -123.55937  ],      dtype=float32)"
      ]
     },
     "execution_count": 29,
     "metadata": {},
     "output_type": "execute_result"
    }
   ],
   "source": [
    "from jax import vmap\n",
    "\n",
    "r_net = bvp_model.r_net\n",
    "x, y, z, f = next(dom_iterator).values()\n",
    "vmap(bvp_model.r_net, in_axes=(None, *[0] * 4))(params, *(x, y, z, f))"
   ]
  },
  {
   "cell_type": "code",
   "execution_count": null,
   "metadata": {},
   "outputs": [],
   "source": []
  },
  {
   "cell_type": "code",
   "execution_count": 27,
   "metadata": {},
   "outputs": [
    {
     "ename": "ValueError",
     "evalue": "vmap in_axes must be an int, None, or a tuple of entries corresponding to the positional arguments passed to the function, but got len(in_axes)=6, len(args)=5",
     "output_type": "error",
     "traceback": [
      "\u001b[1;31m---------------------------------------------------------------------------\u001b[0m",
      "\u001b[1;31mValueError\u001b[0m                                Traceback (most recent call last)",
      "Cell \u001b[1;32mIn[27], line 3\u001b[0m\n\u001b[0;32m      1\u001b[0m bvp_model\u001b[38;5;241m.\u001b[39mr_net(params, \u001b[38;5;241m0.\u001b[39m,\u001b[38;5;241m0.\u001b[39m,\u001b[38;5;241m0.\u001b[39m,\u001b[38;5;241m0.\u001b[39m, part\u001b[38;5;241m=\u001b[39m\u001b[38;5;124m\"\u001b[39m\u001b[38;5;124mimag\u001b[39m\u001b[38;5;124m\"\u001b[39m)\n\u001b[0;32m      2\u001b[0m vmap_fn \u001b[38;5;241m=\u001b[39m vmap(bvp_model\u001b[38;5;241m.\u001b[39mr_net, in_axes\u001b[38;5;241m=\u001b[39m(\u001b[38;5;241m0\u001b[39m, \u001b[38;5;28;01mNone\u001b[39;00m, \u001b[38;5;28;01mNone\u001b[39;00m, \u001b[38;5;28;01mNone\u001b[39;00m, \u001b[38;5;28;01mNone\u001b[39;00m, \u001b[38;5;28;01mNone\u001b[39;00m))\n\u001b[1;32m----> 3\u001b[0m result \u001b[38;5;241m=\u001b[39m \u001b[43mvmap_fn\u001b[49m\u001b[43m(\u001b[49m\u001b[43mparams\u001b[49m\u001b[43m,\u001b[49m\u001b[43m \u001b[49m\u001b[38;5;241;43m0.\u001b[39;49m\u001b[43m,\u001b[49m\u001b[43m \u001b[49m\u001b[38;5;241;43m0.\u001b[39;49m\u001b[43m,\u001b[49m\u001b[43m \u001b[49m\u001b[38;5;241;43m0.\u001b[39;49m\u001b[43m,\u001b[49m\u001b[43m \u001b[49m\u001b[38;5;241;43m0.\u001b[39;49m\u001b[43m,\u001b[49m\u001b[43m \u001b[49m\u001b[43mpart\u001b[49m\u001b[38;5;241;43m=\u001b[39;49m\u001b[38;5;124;43m\"\u001b[39;49m\u001b[38;5;124;43mimag\u001b[39;49m\u001b[38;5;124;43m\"\u001b[39;49m\u001b[43m)\u001b[49m\n",
      "    \u001b[1;31m[... skipping hidden 1 frame]\u001b[0m\n",
      "File \u001b[1;32mc:\\Users\\STNj\\.conda\\envs\\pyimpedance\\Lib\\site-packages\\jax\\_src\\api.py:1249\u001b[0m, in \u001b[0;36mvmap.<locals>.vmap_f\u001b[1;34m(*args, **kwargs)\u001b[0m\n\u001b[0;32m   1245\u001b[0m \u001b[38;5;129m@wraps\u001b[39m(fun, docstr\u001b[38;5;241m=\u001b[39mdocstr)\n\u001b[0;32m   1246\u001b[0m \u001b[38;5;129m@api_boundary\u001b[39m\n\u001b[0;32m   1247\u001b[0m \u001b[38;5;28;01mdef\u001b[39;00m \u001b[38;5;21mvmap_f\u001b[39m(\u001b[38;5;241m*\u001b[39margs, \u001b[38;5;241m*\u001b[39m\u001b[38;5;241m*\u001b[39mkwargs):\n\u001b[0;32m   1248\u001b[0m   \u001b[38;5;28;01mif\u001b[39;00m \u001b[38;5;28misinstance\u001b[39m(in_axes, \u001b[38;5;28mtuple\u001b[39m) \u001b[38;5;129;01mand\u001b[39;00m \u001b[38;5;28mlen\u001b[39m(in_axes) \u001b[38;5;241m!=\u001b[39m \u001b[38;5;28mlen\u001b[39m(args):\n\u001b[1;32m-> 1249\u001b[0m     \u001b[38;5;28;01mraise\u001b[39;00m \u001b[38;5;167;01mValueError\u001b[39;00m(\u001b[38;5;124m\"\u001b[39m\u001b[38;5;124mvmap in_axes must be an int, None, or a tuple of entries corresponding \u001b[39m\u001b[38;5;124m\"\u001b[39m\n\u001b[0;32m   1250\u001b[0m                      \u001b[38;5;124m\"\u001b[39m\u001b[38;5;124mto the positional arguments passed to the function, \u001b[39m\u001b[38;5;124m\"\u001b[39m\n\u001b[0;32m   1251\u001b[0m                      \u001b[38;5;124mf\u001b[39m\u001b[38;5;124m\"\u001b[39m\u001b[38;5;124mbut got \u001b[39m\u001b[38;5;132;01m{\u001b[39;00m\u001b[38;5;28mlen\u001b[39m(in_axes)\u001b[38;5;132;01m=}\u001b[39;00m\u001b[38;5;124m, \u001b[39m\u001b[38;5;132;01m{\u001b[39;00m\u001b[38;5;28mlen\u001b[39m(args)\u001b[38;5;132;01m=}\u001b[39;00m\u001b[38;5;124m\"\u001b[39m)\n\u001b[0;32m   1252\u001b[0m   args_flat, in_tree  \u001b[38;5;241m=\u001b[39m tree_flatten((args, kwargs), is_leaf\u001b[38;5;241m=\u001b[39mbatching\u001b[38;5;241m.\u001b[39mis_vmappable)\n\u001b[0;32m   1253\u001b[0m   f \u001b[38;5;241m=\u001b[39m lu\u001b[38;5;241m.\u001b[39mwrap_init(fun)\n",
      "\u001b[1;31mValueError\u001b[0m: vmap in_axes must be an int, None, or a tuple of entries corresponding to the positional arguments passed to the function, but got len(in_axes)=6, len(args)=5"
     ]
    }
   ],
   "source": []
  },
  {
   "cell_type": "code",
   "execution_count": null,
   "metadata": {},
   "outputs": [
    {
     "data": {
      "text/plain": [
       "(None, 0, 0, 0, 0, None)"
      ]
     },
     "execution_count": 7,
     "metadata": {},
     "output_type": "execute_result"
    }
   ],
   "source": [
    "(None, *[0] * 4, None)"
   ]
  },
  {
   "cell_type": "code",
   "execution_count": null,
   "metadata": {},
   "outputs": [
    {
     "data": {
      "text/plain": [
       "(Array(1.0073488, dtype=float32), Array(1.1958337, dtype=float32))"
      ]
     },
     "execution_count": 8,
     "metadata": {},
     "output_type": "execute_result"
    }
   ],
   "source": [
    "# test individual models\n",
    "\n",
    "bvp_model.p_loss(params, next(data_iterator))\n",
    "# bvp_model.r_loss(params, next(dom_iterator))\n",
    "# bvp_model.b_loss(params, next(bnd_iterator))"
   ]
  },
  {
   "cell_type": "code",
   "execution_count": null,
   "metadata": {},
   "outputs": [
    {
     "data": {
      "text/plain": [
       "(Array([ 0.04716443,  0.03689361,  0.02221077,  0.03747791,  0.04307295,\n",
       "        -0.00032674,  0.01515444,  0.06518535,  0.04870435,  0.05693201,\n",
       "         0.07002046,  0.04120278, -0.0098152 ,  0.02148196,  0.00976468,\n",
       "         0.05594826], dtype=float32),\n",
       " Array([-0.01987108, -0.00024862, -0.02182606, -0.04618606, -0.03799538,\n",
       "        -0.01071216, -0.04871527, -0.01985353, -0.01966653, -0.00612449,\n",
       "        -0.01326989, -0.02304624, -0.03284209, -0.026276  , -0.01182558,\n",
       "        -0.03974533], dtype=float32))"
      ]
     },
     "execution_count": 9,
     "metadata": {},
     "output_type": "execute_result"
    }
   ],
   "source": [
    "from jax import vmap\n",
    "coords, gt = next(data_iterator)  # unpack the data batch\n",
    "f, x, y, z = coords.values()\n",
    "\n",
    "vmap(bvp_model.p_net, in_axes=(None, *[0] * 4))(params, *(x, y, z, f))"
   ]
  },
  {
   "cell_type": "code",
   "execution_count": null,
   "metadata": {},
   "outputs": [
    {
     "ename": "ValueError",
     "evalue": "vmap was requested to map its argument along axis 0, which implies that its rank should be at least 1, but is only 0 (its shape is ())",
     "output_type": "error",
     "traceback": [
      "\u001b[1;31m---------------------------------------------------------------------------\u001b[0m",
      "\u001b[1;31mIndexError\u001b[0m                                Traceback (most recent call last)",
      "File \u001b[1;32mc:\\Users\\STNj\\.conda\\envs\\pyimpedance\\Lib\\site-packages\\jax\\_src\\api.py:1278\u001b[0m, in \u001b[0;36m_mapped_axis_size.<locals>._get_axis_size\u001b[1;34m(name, shape, axis)\u001b[0m\n\u001b[0;32m   1277\u001b[0m \u001b[38;5;28;01mtry\u001b[39;00m:\n\u001b[1;32m-> 1278\u001b[0m   \u001b[38;5;28;01mreturn\u001b[39;00m \u001b[43mshape\u001b[49m\u001b[43m[\u001b[49m\u001b[43maxis\u001b[49m\u001b[43m]\u001b[49m\n\u001b[0;32m   1279\u001b[0m \u001b[38;5;28;01mexcept\u001b[39;00m (\u001b[38;5;167;01mIndexError\u001b[39;00m, \u001b[38;5;167;01mTypeError\u001b[39;00m) \u001b[38;5;28;01mas\u001b[39;00m e:\n",
      "\u001b[1;31mIndexError\u001b[0m: tuple index out of range",
      "\nThe above exception was the direct cause of the following exception:\n",
      "\u001b[1;31mValueError\u001b[0m                                Traceback (most recent call last)",
      "Cell \u001b[1;32mIn[10], line 2\u001b[0m\n\u001b[0;32m      1\u001b[0m \u001b[38;5;66;03m# bvp_model.p_loss(params, (coords, gt))\u001b[39;00m\n\u001b[1;32m----> 2\u001b[0m \u001b[43mbvp_model\u001b[49m\u001b[38;5;241;43m.\u001b[39;49m\u001b[43mr_loss\u001b[49m\u001b[43m(\u001b[49m\u001b[43mparams\u001b[49m\u001b[43m,\u001b[49m\u001b[43m \u001b[49m\u001b[38;5;28;43mnext\u001b[39;49m\u001b[43m(\u001b[49m\u001b[43mdom_iterator\u001b[49m\u001b[43m)\u001b[49m\u001b[43m)\u001b[49m\n",
      "File \u001b[1;32mc:\\Users\\STNj\\dtu\\thesis\\zpinn\\src\\zpinn\\models\\BVPModel.py:235\u001b[0m, in \u001b[0;36mBVPModel.r_loss\u001b[1;34m(self, params, batch)\u001b[0m\n\u001b[0;32m    233\u001b[0m coords \u001b[38;5;241m=\u001b[39m batch\n\u001b[0;32m    234\u001b[0m f, x, y, z \u001b[38;5;241m=\u001b[39m coords\u001b[38;5;241m.\u001b[39mvalues()\n\u001b[1;32m--> 235\u001b[0m rr \u001b[38;5;241m=\u001b[39m \u001b[43mvmap\u001b[49m\u001b[43m(\u001b[49m\u001b[38;5;28;43mself\u001b[39;49m\u001b[38;5;241;43m.\u001b[39;49m\u001b[43mr_net\u001b[49m\u001b[43m,\u001b[49m\u001b[43m \u001b[49m\u001b[43min_axes\u001b[49m\u001b[38;5;241;43m=\u001b[39;49m\u001b[43m(\u001b[49m\u001b[38;5;28;43;01mNone\u001b[39;49;00m\u001b[43m,\u001b[49m\u001b[43m \u001b[49m\u001b[38;5;241;43m*\u001b[39;49m\u001b[43m[\u001b[49m\u001b[38;5;241;43m0\u001b[39;49m\u001b[43m]\u001b[49m\u001b[43m \u001b[49m\u001b[38;5;241;43m*\u001b[39;49m\u001b[43m \u001b[49m\u001b[38;5;241;43m4\u001b[39;49m\u001b[43m)\u001b[49m\u001b[43m)\u001b[49m\u001b[43m(\u001b[49m\n\u001b[0;32m    236\u001b[0m \u001b[43m    \u001b[49m\u001b[43mparams\u001b[49m\u001b[43m,\u001b[49m\u001b[43m \u001b[49m\u001b[38;5;241;43m*\u001b[39;49m\u001b[43m(\u001b[49m\u001b[43mx\u001b[49m\u001b[43m,\u001b[49m\u001b[43m \u001b[49m\u001b[43my\u001b[49m\u001b[43m,\u001b[49m\u001b[43m \u001b[49m\u001b[43mz\u001b[49m\u001b[43m,\u001b[49m\u001b[43m \u001b[49m\u001b[43mf\u001b[49m\u001b[43m)\u001b[49m\u001b[43m,\u001b[49m\u001b[43m \u001b[49m\u001b[43mpart\u001b[49m\u001b[38;5;241;43m=\u001b[39;49m\u001b[38;5;124;43m\"\u001b[39;49m\u001b[38;5;124;43mreal\u001b[39;49m\u001b[38;5;124;43m\"\u001b[39;49m\n\u001b[0;32m    237\u001b[0m \u001b[43m\u001b[49m\u001b[43m)\u001b[49m\n\u001b[0;32m    238\u001b[0m ri \u001b[38;5;241m=\u001b[39m vmap(\u001b[38;5;28mself\u001b[39m\u001b[38;5;241m.\u001b[39mr_net, in_axes\u001b[38;5;241m=\u001b[39m(\u001b[38;5;28;01mNone\u001b[39;00m, \u001b[38;5;241m*\u001b[39m[\u001b[38;5;241m0\u001b[39m] \u001b[38;5;241m*\u001b[39m \u001b[38;5;241m4\u001b[39m))(\n\u001b[0;32m    239\u001b[0m     params, \u001b[38;5;241m*\u001b[39m(x, y, z, f), part\u001b[38;5;241m=\u001b[39m\u001b[38;5;124m\"\u001b[39m\u001b[38;5;124mimag\u001b[39m\u001b[38;5;124m\"\u001b[39m\n\u001b[0;32m    240\u001b[0m )\n\u001b[0;32m    242\u001b[0m \u001b[38;5;28;01mreturn\u001b[39;00m \u001b[38;5;28mself\u001b[39m\u001b[38;5;241m.\u001b[39mcriterion(rr, \u001b[38;5;241m0.0\u001b[39m), \u001b[38;5;28mself\u001b[39m\u001b[38;5;241m.\u001b[39mcriterion(ri, \u001b[38;5;241m0.0\u001b[39m)\n",
      "    \u001b[1;31m[... skipping hidden 6 frame]\u001b[0m\n",
      "File \u001b[1;32mc:\\Users\\STNj\\.conda\\envs\\pyimpedance\\Lib\\site-packages\\jax\\_src\\api.py:1282\u001b[0m, in \u001b[0;36m_mapped_axis_size.<locals>._get_axis_size\u001b[1;34m(name, shape, axis)\u001b[0m\n\u001b[0;32m   1280\u001b[0m min_rank \u001b[38;5;241m=\u001b[39m axis \u001b[38;5;241m+\u001b[39m \u001b[38;5;241m1\u001b[39m \u001b[38;5;28;01mif\u001b[39;00m axis \u001b[38;5;241m>\u001b[39m\u001b[38;5;241m=\u001b[39m \u001b[38;5;241m0\u001b[39m \u001b[38;5;28;01melse\u001b[39;00m \u001b[38;5;241m-\u001b[39maxis\n\u001b[0;32m   1281\u001b[0m \u001b[38;5;66;03m# TODO(mattjj): better error message here\u001b[39;00m\n\u001b[1;32m-> 1282\u001b[0m \u001b[38;5;28;01mraise\u001b[39;00m \u001b[38;5;167;01mValueError\u001b[39;00m(\n\u001b[0;32m   1283\u001b[0m     \u001b[38;5;124mf\u001b[39m\u001b[38;5;124m\"\u001b[39m\u001b[38;5;132;01m{\u001b[39;00mname\u001b[38;5;132;01m}\u001b[39;00m\u001b[38;5;124m was requested to map its argument along axis \u001b[39m\u001b[38;5;132;01m{\u001b[39;00maxis\u001b[38;5;132;01m}\u001b[39;00m\u001b[38;5;124m, \u001b[39m\u001b[38;5;124m\"\u001b[39m\n\u001b[0;32m   1284\u001b[0m     \u001b[38;5;124mf\u001b[39m\u001b[38;5;124m\"\u001b[39m\u001b[38;5;124mwhich implies that its rank should be at least \u001b[39m\u001b[38;5;132;01m{\u001b[39;00mmin_rank\u001b[38;5;132;01m}\u001b[39;00m\u001b[38;5;124m, \u001b[39m\u001b[38;5;124m\"\u001b[39m\n\u001b[0;32m   1285\u001b[0m     \u001b[38;5;124mf\u001b[39m\u001b[38;5;124m\"\u001b[39m\u001b[38;5;124mbut is only \u001b[39m\u001b[38;5;132;01m{\u001b[39;00m\u001b[38;5;28mlen\u001b[39m(shape)\u001b[38;5;132;01m}\u001b[39;00m\u001b[38;5;124m (its shape is \u001b[39m\u001b[38;5;132;01m{\u001b[39;00mshape\u001b[38;5;132;01m}\u001b[39;00m\u001b[38;5;124m)\u001b[39m\u001b[38;5;124m\"\u001b[39m) \u001b[38;5;28;01mfrom\u001b[39;00m \u001b[38;5;21;01me\u001b[39;00m\n",
      "\u001b[1;31mValueError\u001b[0m: vmap was requested to map its argument along axis 0, which implies that its rank should be at least 1, but is only 0 (its shape is ())"
     ]
    }
   ],
   "source": [
    "# bvp_model.p_loss(params, (coords, gt))\n",
    "bvp_model.r_loss(params, next(dom_iterator))"
   ]
  },
  {
   "cell_type": "code",
   "execution_count": null,
   "metadata": {},
   "outputs": [
    {
     "ename": "ValueError",
     "evalue": "vmap was requested to map its argument along axis 0, which implies that its rank should be at least 1, but is only 0 (its shape is ())",
     "output_type": "error",
     "traceback": [
      "\u001b[1;31m---------------------------------------------------------------------------\u001b[0m",
      "\u001b[1;31mIndexError\u001b[0m                                Traceback (most recent call last)",
      "File \u001b[1;32mc:\\Users\\STNj\\.conda\\envs\\pyimpedance\\Lib\\site-packages\\jax\\_src\\api.py:1278\u001b[0m, in \u001b[0;36m_mapped_axis_size.<locals>._get_axis_size\u001b[1;34m(name, shape, axis)\u001b[0m\n\u001b[0;32m   1277\u001b[0m \u001b[38;5;28;01mtry\u001b[39;00m:\n\u001b[1;32m-> 1278\u001b[0m   \u001b[38;5;28;01mreturn\u001b[39;00m \u001b[43mshape\u001b[49m\u001b[43m[\u001b[49m\u001b[43maxis\u001b[49m\u001b[43m]\u001b[49m\n\u001b[0;32m   1279\u001b[0m \u001b[38;5;28;01mexcept\u001b[39;00m (\u001b[38;5;167;01mIndexError\u001b[39;00m, \u001b[38;5;167;01mTypeError\u001b[39;00m) \u001b[38;5;28;01mas\u001b[39;00m e:\n",
      "\u001b[1;31mIndexError\u001b[0m: tuple index out of range",
      "\nThe above exception was the direct cause of the following exception:\n",
      "\u001b[1;31mValueError\u001b[0m                                Traceback (most recent call last)",
      "Cell \u001b[1;32mIn[8], line 1\u001b[0m\n\u001b[1;32m----> 1\u001b[0m \u001b[43mbvp_model\u001b[49m\u001b[38;5;241;43m.\u001b[39;49m\u001b[43mlosses\u001b[49m\u001b[43m(\u001b[49m\n\u001b[0;32m      2\u001b[0m \u001b[43m    \u001b[49m\u001b[43mparams\u001b[49m\u001b[43m,\u001b[49m\n\u001b[0;32m      3\u001b[0m \u001b[43m    \u001b[49m\u001b[43mcoeffs\u001b[49m\u001b[43m,\u001b[49m\n\u001b[0;32m      4\u001b[0m \u001b[43m    \u001b[49m\u001b[38;5;28;43mnext\u001b[39;49m\u001b[43m(\u001b[49m\u001b[43mdata_iterator\u001b[49m\u001b[43m)\u001b[49m\u001b[43m,\u001b[49m\n\u001b[0;32m      5\u001b[0m \u001b[43m    \u001b[49m\u001b[38;5;28;43mnext\u001b[39;49m\u001b[43m(\u001b[49m\u001b[43mdom_iterator\u001b[49m\u001b[43m)\u001b[49m\u001b[43m,\u001b[49m\n\u001b[0;32m      6\u001b[0m \u001b[43m    \u001b[49m\u001b[38;5;28;43mnext\u001b[39;49m\u001b[43m(\u001b[49m\u001b[43mbnd_iterator\u001b[49m\u001b[43m)\u001b[49m\u001b[43m,\u001b[49m\n\u001b[0;32m      7\u001b[0m \u001b[43m)\u001b[49m\n",
      "File \u001b[1;32mc:\\Users\\STNj\\dtu\\thesis\\zpinn\\src\\zpinn\\models\\BVPModel.py:209\u001b[0m, in \u001b[0;36mBVPModel.losses\u001b[1;34m(self, params, coeffs, dat_batch, dom_batch, bnd_batch)\u001b[0m\n\u001b[0;32m    207\u001b[0m \u001b[38;5;250m\u001b[39m\u001b[38;5;124;03m\"\"\"Returns the losses of the model.\"\"\"\u001b[39;00m\n\u001b[0;32m    208\u001b[0m data_loss_re, data_loss_im \u001b[38;5;241m=\u001b[39m \u001b[38;5;28mself\u001b[39m\u001b[38;5;241m.\u001b[39mp_loss(params, dat_batch)\n\u001b[1;32m--> 209\u001b[0m pde_loss_re, pde_loss_im \u001b[38;5;241m=\u001b[39m \u001b[38;5;28;43mself\u001b[39;49m\u001b[38;5;241;43m.\u001b[39;49m\u001b[43mr_loss\u001b[49m\u001b[43m(\u001b[49m\u001b[43mparams\u001b[49m\u001b[43m,\u001b[49m\u001b[43m \u001b[49m\u001b[43mdom_batch\u001b[49m\u001b[43m)\u001b[49m\n\u001b[0;32m    210\u001b[0m bc_loss_re, bc_loss_im \u001b[38;5;241m=\u001b[39m \u001b[38;5;28mself\u001b[39m\u001b[38;5;241m.\u001b[39mz_loss(params, coeffs, bnd_batch)\n\u001b[0;32m    211\u001b[0m \u001b[38;5;28;01mreturn\u001b[39;00m {\n\u001b[0;32m    212\u001b[0m     \u001b[38;5;124m\"\u001b[39m\u001b[38;5;124mdata_re\u001b[39m\u001b[38;5;124m\"\u001b[39m: data_loss_re,\n\u001b[0;32m    213\u001b[0m     \u001b[38;5;124m\"\u001b[39m\u001b[38;5;124mdata_im\u001b[39m\u001b[38;5;124m\"\u001b[39m: data_loss_im,\n\u001b[1;32m   (...)\u001b[0m\n\u001b[0;32m    217\u001b[0m     \u001b[38;5;124m\"\u001b[39m\u001b[38;5;124mbc_im\u001b[39m\u001b[38;5;124m\"\u001b[39m: bc_loss_im,\n\u001b[0;32m    218\u001b[0m }\n",
      "File \u001b[1;32mc:\\Users\\STNj\\dtu\\thesis\\zpinn\\src\\zpinn\\models\\BVPModel.py:235\u001b[0m, in \u001b[0;36mBVPModel.r_loss\u001b[1;34m(self, params, batch)\u001b[0m\n\u001b[0;32m    233\u001b[0m coords \u001b[38;5;241m=\u001b[39m batch\n\u001b[0;32m    234\u001b[0m f, x, y, z \u001b[38;5;241m=\u001b[39m coords\u001b[38;5;241m.\u001b[39mvalues()\n\u001b[1;32m--> 235\u001b[0m rr \u001b[38;5;241m=\u001b[39m \u001b[43mvmap\u001b[49m\u001b[43m(\u001b[49m\u001b[38;5;28;43mself\u001b[39;49m\u001b[38;5;241;43m.\u001b[39;49m\u001b[43mr_net\u001b[49m\u001b[43m,\u001b[49m\u001b[43m \u001b[49m\u001b[43min_axes\u001b[49m\u001b[38;5;241;43m=\u001b[39;49m\u001b[43m(\u001b[49m\u001b[38;5;28;43;01mNone\u001b[39;49;00m\u001b[43m,\u001b[49m\u001b[43m \u001b[49m\u001b[38;5;241;43m*\u001b[39;49m\u001b[43m[\u001b[49m\u001b[38;5;241;43m0\u001b[39;49m\u001b[43m]\u001b[49m\u001b[43m \u001b[49m\u001b[38;5;241;43m*\u001b[39;49m\u001b[43m \u001b[49m\u001b[38;5;241;43m4\u001b[39;49m\u001b[43m)\u001b[49m\u001b[43m)\u001b[49m\u001b[43m(\u001b[49m\n\u001b[0;32m    236\u001b[0m \u001b[43m    \u001b[49m\u001b[43mparams\u001b[49m\u001b[43m,\u001b[49m\u001b[43m \u001b[49m\u001b[38;5;241;43m*\u001b[39;49m\u001b[43m(\u001b[49m\u001b[43mx\u001b[49m\u001b[43m,\u001b[49m\u001b[43m \u001b[49m\u001b[43my\u001b[49m\u001b[43m,\u001b[49m\u001b[43m \u001b[49m\u001b[43mz\u001b[49m\u001b[43m,\u001b[49m\u001b[43m \u001b[49m\u001b[43mf\u001b[49m\u001b[43m)\u001b[49m\u001b[43m,\u001b[49m\u001b[43m \u001b[49m\u001b[43mpart\u001b[49m\u001b[38;5;241;43m=\u001b[39;49m\u001b[38;5;124;43m\"\u001b[39;49m\u001b[38;5;124;43mreal\u001b[39;49m\u001b[38;5;124;43m\"\u001b[39;49m\n\u001b[0;32m    237\u001b[0m \u001b[43m\u001b[49m\u001b[43m)\u001b[49m\n\u001b[0;32m    238\u001b[0m ri \u001b[38;5;241m=\u001b[39m vmap(\u001b[38;5;28mself\u001b[39m\u001b[38;5;241m.\u001b[39mr_net, in_axes\u001b[38;5;241m=\u001b[39m(\u001b[38;5;28;01mNone\u001b[39;00m, \u001b[38;5;241m*\u001b[39m[\u001b[38;5;241m0\u001b[39m] \u001b[38;5;241m*\u001b[39m \u001b[38;5;241m4\u001b[39m))(\n\u001b[0;32m    239\u001b[0m     params, \u001b[38;5;241m*\u001b[39m(x, y, z, f), part\u001b[38;5;241m=\u001b[39m\u001b[38;5;124m\"\u001b[39m\u001b[38;5;124mimag\u001b[39m\u001b[38;5;124m\"\u001b[39m\n\u001b[0;32m    240\u001b[0m )\n\u001b[0;32m    242\u001b[0m \u001b[38;5;28;01mreturn\u001b[39;00m \u001b[38;5;28mself\u001b[39m\u001b[38;5;241m.\u001b[39mcriterion(rr, \u001b[38;5;241m0.0\u001b[39m), \u001b[38;5;28mself\u001b[39m\u001b[38;5;241m.\u001b[39mcriterion(ri, \u001b[38;5;241m0.0\u001b[39m)\n",
      "    \u001b[1;31m[... skipping hidden 6 frame]\u001b[0m\n",
      "File \u001b[1;32mc:\\Users\\STNj\\.conda\\envs\\pyimpedance\\Lib\\site-packages\\jax\\_src\\api.py:1282\u001b[0m, in \u001b[0;36m_mapped_axis_size.<locals>._get_axis_size\u001b[1;34m(name, shape, axis)\u001b[0m\n\u001b[0;32m   1280\u001b[0m min_rank \u001b[38;5;241m=\u001b[39m axis \u001b[38;5;241m+\u001b[39m \u001b[38;5;241m1\u001b[39m \u001b[38;5;28;01mif\u001b[39;00m axis \u001b[38;5;241m>\u001b[39m\u001b[38;5;241m=\u001b[39m \u001b[38;5;241m0\u001b[39m \u001b[38;5;28;01melse\u001b[39;00m \u001b[38;5;241m-\u001b[39maxis\n\u001b[0;32m   1281\u001b[0m \u001b[38;5;66;03m# TODO(mattjj): better error message here\u001b[39;00m\n\u001b[1;32m-> 1282\u001b[0m \u001b[38;5;28;01mraise\u001b[39;00m \u001b[38;5;167;01mValueError\u001b[39;00m(\n\u001b[0;32m   1283\u001b[0m     \u001b[38;5;124mf\u001b[39m\u001b[38;5;124m\"\u001b[39m\u001b[38;5;132;01m{\u001b[39;00mname\u001b[38;5;132;01m}\u001b[39;00m\u001b[38;5;124m was requested to map its argument along axis \u001b[39m\u001b[38;5;132;01m{\u001b[39;00maxis\u001b[38;5;132;01m}\u001b[39;00m\u001b[38;5;124m, \u001b[39m\u001b[38;5;124m\"\u001b[39m\n\u001b[0;32m   1284\u001b[0m     \u001b[38;5;124mf\u001b[39m\u001b[38;5;124m\"\u001b[39m\u001b[38;5;124mwhich implies that its rank should be at least \u001b[39m\u001b[38;5;132;01m{\u001b[39;00mmin_rank\u001b[38;5;132;01m}\u001b[39;00m\u001b[38;5;124m, \u001b[39m\u001b[38;5;124m\"\u001b[39m\n\u001b[0;32m   1285\u001b[0m     \u001b[38;5;124mf\u001b[39m\u001b[38;5;124m\"\u001b[39m\u001b[38;5;124mbut is only \u001b[39m\u001b[38;5;132;01m{\u001b[39;00m\u001b[38;5;28mlen\u001b[39m(shape)\u001b[38;5;132;01m}\u001b[39;00m\u001b[38;5;124m (its shape is \u001b[39m\u001b[38;5;132;01m{\u001b[39;00mshape\u001b[38;5;132;01m}\u001b[39;00m\u001b[38;5;124m)\u001b[39m\u001b[38;5;124m\"\u001b[39m) \u001b[38;5;28;01mfrom\u001b[39;00m \u001b[38;5;21;01me\u001b[39;00m\n",
      "\u001b[1;31mValueError\u001b[0m: vmap was requested to map its argument along axis 0, which implies that its rank should be at least 1, but is only 0 (its shape is ())"
     ]
    }
   ],
   "source": [
    "bvp_model.losses(\n",
    "    params,\n",
    "    coeffs,\n",
    "    next(data_iterator),\n",
    "    next(dom_iterator),\n",
    "    next(bnd_iterator),\n",
    ")"
   ]
  }
 ],
 "metadata": {
  "kernelspec": {
   "display_name": "pyimpedance",
   "language": "python",
   "name": "python3"
  },
  "language_info": {
   "codemirror_mode": {
    "name": "ipython",
    "version": 3
   },
   "file_extension": ".py",
   "mimetype": "text/x-python",
   "name": "python",
   "nbconvert_exporter": "python",
   "pygments_lexer": "ipython3",
   "version": "3.11.5"
  }
 },
 "nbformat": 4,
 "nbformat_minor": 2
}

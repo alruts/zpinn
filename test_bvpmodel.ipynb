{
 "cells": [
  {
   "cell_type": "code",
   "execution_count": 1,
   "metadata": {},
   "outputs": [],
   "source": [
    "from src.zpinn.dataio import PressureDataset, DomainSampler, BoundarySampler\n",
    "\n",
    "\n",
    "data_path = r\"C:\\Users\\STNj\\dtu\\thesis\\code\\data\\processed\\inf_baffle.pkl\"\n",
    "dataset = PressureDataset(data_path)\n",
    "dataloader = dataset.get_dataloader(batch_size=16, shuffle=True)\n",
    "data_iterator = iter(dataloader)"
   ]
  },
  {
   "cell_type": "code",
   "execution_count": 2,
   "metadata": {},
   "outputs": [
    {
     "data": {
      "text/plain": [
       "{'x': Array([0.89965916, 0.54451245, 0.7551072 , 0.30612645, 1.0907483 ,\n",
       "        0.527942  , 0.7002718 , 0.7091689 , 0.5983184 , 1.2476665 ,\n",
       "        0.7626662 , 0.17276604, 1.2757558 , 0.53877735, 0.14619748,\n",
       "        0.11825243], dtype=float32),\n",
       " 'y': Array([1.2415363 , 1.2588104 , 0.89180833, 0.20118618, 1.3057855 ,\n",
       "        0.03785117, 1.3305675 , 0.7668254 , 0.07583634, 0.86100835,\n",
       "        0.76941425, 1.3311567 , 0.90818405, 0.5990197 , 0.21758191,\n",
       "        0.7012175 ], dtype=float32),\n",
       " 'z': Array([ 0.26074818,  1.0214976 ,  1.5902928 ,  0.03995725,  9.103167  ,\n",
       "         9.785904  ,  0.3121819 , 11.8482485 ,  6.5587196 ,  0.3870913 ,\n",
       "        13.150018  , 13.229212  , 12.3033085 ,  6.931617  , 10.591384  ,\n",
       "         8.704803  ], dtype=float32),\n",
       " 'f': Array([-1.0200034, -1.0198369, -1.0201769, -1.0200241, -1.0201287,\n",
       "        -1.0200919, -1.0199314, -1.0199411, -1.0201936, -1.0201573,\n",
       "        -1.019948 , -1.0200167, -1.0199752, -1.0201061, -1.0200771,\n",
       "        -1.0200541], dtype=float32)}"
      ]
     },
     "execution_count": 2,
     "metadata": {},
     "output_type": "execute_result"
    }
   ],
   "source": [
    "dom_sampler = DomainSampler(\n",
    "    batch_size=16,\n",
    "    limits=dict(x=(0, 1), y=(0, 1), z=(0, 1), f=(0, 1)),\n",
    "    distributions=dict(x=\"uniform\", y=\"uniform\", z=\"uniform\", f=\"uniform\"),\n",
    "    transforms=dataset.transforms,\n",
    ")\n",
    "\n",
    "dom_iterator = iter(dom_sampler)\n",
    "next(dom_iterator)"
   ]
  },
  {
   "cell_type": "code",
   "execution_count": 3,
   "metadata": {},
   "outputs": [],
   "source": [
    "bnd_sampler = BoundarySampler(\n",
    "    batch_size=16,\n",
    "    limits=dict(x=(0, 1), y=(0, 1), z=(0, 0), f=(0, 1)),\n",
    "    distributions=dict(x=\"grid\", y=\"grid\", z=\"uniform\", f=\"uniform\"),\n",
    "    transforms=dataset.transforms,\n",
    ")\n",
    "\n",
    "bnd_iterator = iter(bnd_sampler)"
   ]
  },
  {
   "cell_type": "code",
   "execution_count": 4,
   "metadata": {},
   "outputs": [],
   "source": [
    "dataset.transforms\n",
    "\n",
    "\n",
    "transforms = dict(\n",
    "    x0=dataset.transforms[\"x\"][0],\n",
    "    xc=dataset.transforms[\"x\"][1],\n",
    "    y0=dataset.transforms[\"y\"][0],\n",
    "    yc=dataset.transforms[\"y\"][1],\n",
    "    z0=dataset.transforms[\"z\"][0],\n",
    "    zc=dataset.transforms[\"z\"][1],\n",
    "    f0=dataset.transforms[\"f\"][0],\n",
    "    fc=dataset.transforms[\"f\"][1],\n",
    "    a0=dataset.transforms[\"real_pressure\"][0],\n",
    "    ac=dataset.transforms[\"real_pressure\"][1],\n",
    "    b0=dataset.transforms[\"imag_pressure\"][0],\n",
    "    bc=dataset.transforms[\"imag_pressure\"][1],\n",
    ")"
   ]
  },
  {
   "cell_type": "code",
   "execution_count": 5,
   "metadata": {},
   "outputs": [],
   "source": [
    "from src.zpinn.models import SIREN, BVPModel\n",
    "\n",
    "\n",
    "model = SIREN.SIREN(\n",
    "    in_features=4,\n",
    "    out_features=2,\n",
    "    hidden_features=256,\n",
    "    hidden_layers=3,\n",
    "    outermost_linear=True,\n",
    ")\n",
    "\n",
    "bvp_model = BVPModel.BVPModel(\n",
    "    model=model,\n",
    "    transforms=transforms,\n",
    "    impedance_model=\"single_freq\",\n",
    ")\n",
    "\n",
    "params = bvp_model.parameters()\n",
    "coeffs = bvp_model.coefficients"
   ]
  },
  {
   "cell_type": "code",
   "execution_count": 6,
   "metadata": {},
   "outputs": [
    {
     "data": {
      "text/plain": [
       "(Array([ 352.92667 ,  384.79895 ,  266.78497 , -181.60464 , -500.65112 ,\n",
       "         -84.69677 , -138.26909 ,   42.466045, -184.53163 , -527.205   ,\n",
       "        -557.5096  , -317.8887  , -153.31493 , -293.69724 , -303.729   ,\n",
       "          94.350555], dtype=float32),\n",
       " Array([-260.9172   , -207.02176  ,   32.02643  ,  -98.06701  ,\n",
       "         157.27023  ,  -18.45046  , -116.04307  ,   -4.2085233,\n",
       "         -43.117615 ,   86.34408  ,  381.32175  , -176.7694   ,\n",
       "        -267.46906  , -498.16583  , -588.4759   , -306.94052  ],      dtype=float32))"
      ]
     },
     "execution_count": 6,
     "metadata": {},
     "output_type": "execute_result"
    }
   ],
   "source": [
    "from jax import vmap\n",
    "\n",
    "r_net = bvp_model.r_net\n",
    "x, y, z, f = next(dom_iterator).values()\n",
    "vmap(bvp_model.r_net, in_axes=(None, *[0] * 4))(params, *(x, y, z, f))"
   ]
  },
  {
   "cell_type": "code",
   "execution_count": 12,
   "metadata": {},
   "outputs": [
    {
     "ename": "TypeError",
     "evalue": "BVPModel.z_loss() missing 1 required positional argument: 'batch'",
     "output_type": "error",
     "traceback": [
      "\u001b[1;31m---------------------------------------------------------------------------\u001b[0m",
      "\u001b[1;31mTypeError\u001b[0m                                 Traceback (most recent call last)",
      "Cell \u001b[1;32mIn[12], line 5\u001b[0m\n\u001b[0;32m      3\u001b[0m bvp_model\u001b[38;5;241m.\u001b[39mp_loss(params, \u001b[38;5;28mnext\u001b[39m(data_iterator))\n\u001b[0;32m      4\u001b[0m bvp_model\u001b[38;5;241m.\u001b[39mr_loss(params, \u001b[38;5;28mnext\u001b[39m(dom_iterator))\n\u001b[1;32m----> 5\u001b[0m \u001b[43mbvp_model\u001b[49m\u001b[38;5;241;43m.\u001b[39;49m\u001b[43mz_loss\u001b[49m\u001b[43m(\u001b[49m\u001b[43mparams\u001b[49m\u001b[43m,\u001b[49m\u001b[43m \u001b[49m\u001b[38;5;28;43mnext\u001b[39;49m\u001b[43m(\u001b[49m\u001b[43mbnd_iterator\u001b[49m\u001b[43m)\u001b[49m\u001b[43m)\u001b[49m\n",
      "\u001b[1;31mTypeError\u001b[0m: BVPModel.z_loss() missing 1 required positional argument: 'batch'"
     ]
    }
   ],
   "source": [
    "# test individual models\n",
    "\n",
    "bvp_model.p_loss(params, next(data_iterator))\n",
    "bvp_model.r_loss(params, next(dom_iterator))\n",
    "bvp_model.z_loss(params, next(bnd_iterator))"
   ]
  },
  {
   "cell_type": "code",
   "execution_count": 8,
   "metadata": {},
   "outputs": [
    {
     "data": {
      "text/plain": [
       "(Array([ 0.04716443,  0.03689361,  0.02221077,  0.03747791,  0.04307295,\n",
       "        -0.00032674,  0.01515444,  0.06518535,  0.04870435,  0.05693201,\n",
       "         0.07002046,  0.04120278, -0.0098152 ,  0.02148196,  0.00976468,\n",
       "         0.05594826], dtype=float32),\n",
       " Array([-0.01987108, -0.00024862, -0.02182606, -0.04618606, -0.03799538,\n",
       "        -0.01071216, -0.04871527, -0.01985353, -0.01966653, -0.00612449,\n",
       "        -0.01326989, -0.02304624, -0.03284209, -0.026276  , -0.01182558,\n",
       "        -0.03974533], dtype=float32))"
      ]
     },
     "execution_count": 8,
     "metadata": {},
     "output_type": "execute_result"
    }
   ],
   "source": [
    "from jax import vmap\n",
    "coords, gt = next(data_iterator)  # unpack the data batch\n",
    "f, x, y, z = coords.values()\n",
    "\n",
    "vmap(bvp_model.p_net, in_axes=(None, *[0] * 4))(params, *(x, y, z, f))"
   ]
  },
  {
   "cell_type": "code",
   "execution_count": 9,
   "metadata": {},
   "outputs": [
    {
     "data": {
      "text/plain": [
       "(Array(128512.016, dtype=float32), Array(2487896.8, dtype=float32))"
      ]
     },
     "execution_count": 9,
     "metadata": {},
     "output_type": "execute_result"
    }
   ],
   "source": [
    "# bvp_model.p_loss(params, (coords, gt))\n",
    "bvp_model.r_loss(params, next(dom_iterator))"
   ]
  },
  {
   "cell_type": "code",
   "execution_count": 10,
   "metadata": {},
   "outputs": [
    {
     "ename": "TypeError",
     "evalue": "unsupported operand type(s) for -: 'tuple' and 'complex'",
     "output_type": "error",
     "traceback": [
      "\u001b[1;31m---------------------------------------------------------------------------\u001b[0m",
      "\u001b[1;31mTypeError\u001b[0m                                 Traceback (most recent call last)",
      "Cell \u001b[1;32mIn[10], line 1\u001b[0m\n\u001b[1;32m----> 1\u001b[0m \u001b[43mbvp_model\u001b[49m\u001b[38;5;241;43m.\u001b[39;49m\u001b[43mlosses\u001b[49m\u001b[43m(\u001b[49m\n\u001b[0;32m      2\u001b[0m \u001b[43m    \u001b[49m\u001b[43mparams\u001b[49m\u001b[43m,\u001b[49m\n\u001b[0;32m      3\u001b[0m \u001b[43m    \u001b[49m\u001b[43mcoeffs\u001b[49m\u001b[43m,\u001b[49m\n\u001b[0;32m      4\u001b[0m \u001b[43m    \u001b[49m\u001b[38;5;28;43mnext\u001b[39;49m\u001b[43m(\u001b[49m\u001b[43mdata_iterator\u001b[49m\u001b[43m)\u001b[49m\u001b[43m,\u001b[49m\n\u001b[0;32m      5\u001b[0m \u001b[43m    \u001b[49m\u001b[38;5;28;43mnext\u001b[39;49m\u001b[43m(\u001b[49m\u001b[43mdom_iterator\u001b[49m\u001b[43m)\u001b[49m\u001b[43m,\u001b[49m\n\u001b[0;32m      6\u001b[0m \u001b[43m    \u001b[49m\u001b[38;5;28;43mnext\u001b[39;49m\u001b[43m(\u001b[49m\u001b[43mbnd_iterator\u001b[49m\u001b[43m)\u001b[49m\u001b[43m,\u001b[49m\n\u001b[0;32m      7\u001b[0m \u001b[43m)\u001b[49m\n",
      "File \u001b[1;32mc:\\Users\\STNj\\dtu\\thesis\\zpinn\\src\\zpinn\\models\\BVPModel.py:218\u001b[0m, in \u001b[0;36mBVPModel.losses\u001b[1;34m(self, params, coeffs, dat_batch, dom_batch, bnd_batch)\u001b[0m\n\u001b[0;32m    216\u001b[0m data_loss_re, data_loss_im \u001b[38;5;241m=\u001b[39m \u001b[38;5;28mself\u001b[39m\u001b[38;5;241m.\u001b[39mp_loss(params, dat_batch)\n\u001b[0;32m    217\u001b[0m pde_loss_re, pde_loss_im \u001b[38;5;241m=\u001b[39m \u001b[38;5;28mself\u001b[39m\u001b[38;5;241m.\u001b[39mr_loss(params, dom_batch)\n\u001b[1;32m--> 218\u001b[0m bc_loss_re, bc_loss_im \u001b[38;5;241m=\u001b[39m \u001b[38;5;28;43mself\u001b[39;49m\u001b[38;5;241;43m.\u001b[39;49m\u001b[43mz_loss\u001b[49m\u001b[43m(\u001b[49m\u001b[43mparams\u001b[49m\u001b[43m,\u001b[49m\u001b[43m \u001b[49m\u001b[43mcoeffs\u001b[49m\u001b[43m,\u001b[49m\u001b[43m \u001b[49m\u001b[43mbnd_batch\u001b[49m\u001b[43m)\u001b[49m\n\u001b[0;32m    219\u001b[0m \u001b[38;5;28;01mreturn\u001b[39;00m {\n\u001b[0;32m    220\u001b[0m     \u001b[38;5;124m\"\u001b[39m\u001b[38;5;124mdata_re\u001b[39m\u001b[38;5;124m\"\u001b[39m: data_loss_re,\n\u001b[0;32m    221\u001b[0m     \u001b[38;5;124m\"\u001b[39m\u001b[38;5;124mdata_im\u001b[39m\u001b[38;5;124m\"\u001b[39m: data_loss_im,\n\u001b[1;32m   (...)\u001b[0m\n\u001b[0;32m    225\u001b[0m     \u001b[38;5;124m\"\u001b[39m\u001b[38;5;124mbc_im\u001b[39m\u001b[38;5;124m\"\u001b[39m: bc_loss_im,\n\u001b[0;32m    226\u001b[0m }\n",
      "File \u001b[1;32mc:\\Users\\STNj\\dtu\\thesis\\zpinn\\src\\zpinn\\models\\BVPModel.py:253\u001b[0m, in \u001b[0;36mBVPModel.z_loss\u001b[1;34m(self, params, coeffs, batch)\u001b[0m\n\u001b[0;32m    250\u001b[0m z_pred \u001b[38;5;241m=\u001b[39m vmap(\u001b[38;5;28mself\u001b[39m\u001b[38;5;241m.\u001b[39mz_net, in_axes\u001b[38;5;241m=\u001b[39m(\u001b[38;5;28;01mNone\u001b[39;00m, \u001b[38;5;241m*\u001b[39m[\u001b[38;5;241m0\u001b[39m] \u001b[38;5;241m*\u001b[39m \u001b[38;5;241m4\u001b[39m))(params, \u001b[38;5;241m*\u001b[39m(x, y, z, f))\n\u001b[0;32m    251\u001b[0m z_est \u001b[38;5;241m=\u001b[39m \u001b[38;5;28mself\u001b[39m\u001b[38;5;241m.\u001b[39mimpedance_model(coeffs, f)\n\u001b[1;32m--> 253\u001b[0m \u001b[38;5;28;01mreturn\u001b[39;00m \u001b[38;5;28;43mself\u001b[39;49m\u001b[38;5;241;43m.\u001b[39;49m\u001b[43mcriterion\u001b[49m\u001b[43m(\u001b[49m\u001b[43mz_pred\u001b[49m\u001b[43m,\u001b[49m\u001b[43m \u001b[49m\u001b[43mz_est\u001b[49m\u001b[43m)\u001b[49m\n",
      "File \u001b[1;32mc:\\Users\\STNj\\dtu\\thesis\\zpinn\\src\\zpinn\\models\\BVPModel.py:18\u001b[0m, in \u001b[0;36m<lambda>\u001b[1;34m(x, y)\u001b[0m\n\u001b[0;32m     14\u001b[0m \u001b[38;5;28;01mfrom\u001b[39;00m \u001b[38;5;21;01mzpinn\u001b[39;00m\u001b[38;5;21;01m.\u001b[39;00m\u001b[38;5;21;01mimpedance_models\u001b[39;00m \u001b[38;5;28;01mimport\u001b[39;00m RMK_plus_1, constant_impedance\n\u001b[0;32m     15\u001b[0m \u001b[38;5;28;01mfrom\u001b[39;00m \u001b[38;5;21;01mzpinn\u001b[39;00m\u001b[38;5;21;01m.\u001b[39;00m\u001b[38;5;21;01mutils\u001b[39;00m \u001b[38;5;28;01mimport\u001b[39;00m flatten_pytree\n\u001b[0;32m     17\u001b[0m criteria \u001b[38;5;241m=\u001b[39m {\n\u001b[1;32m---> 18\u001b[0m     \u001b[38;5;124m\"\u001b[39m\u001b[38;5;124mmse\u001b[39m\u001b[38;5;124m\"\u001b[39m: \u001b[38;5;28;01mlambda\u001b[39;00m x, y: jnp\u001b[38;5;241m.\u001b[39mmean((\u001b[43mx\u001b[49m\u001b[43m \u001b[49m\u001b[38;5;241;43m-\u001b[39;49m\u001b[43m \u001b[49m\u001b[43my\u001b[49m) \u001b[38;5;241m*\u001b[39m\u001b[38;5;241m*\u001b[39m \u001b[38;5;241m2\u001b[39m),\n\u001b[0;32m     19\u001b[0m     \u001b[38;5;124m\"\u001b[39m\u001b[38;5;124mmae\u001b[39m\u001b[38;5;124m\"\u001b[39m: \u001b[38;5;28;01mlambda\u001b[39;00m x, y: jnp\u001b[38;5;241m.\u001b[39mmean(jnp\u001b[38;5;241m.\u001b[39mabs(x \u001b[38;5;241m-\u001b[39m y)),\n\u001b[0;32m     20\u001b[0m }\n\u001b[0;32m     22\u001b[0m unity_tf \u001b[38;5;241m=\u001b[39m {\n\u001b[0;32m     23\u001b[0m     \u001b[38;5;124m\"\u001b[39m\u001b[38;5;124mx0\u001b[39m\u001b[38;5;124m\"\u001b[39m: \u001b[38;5;241m0.0\u001b[39m,\n\u001b[0;32m     24\u001b[0m     \u001b[38;5;124m\"\u001b[39m\u001b[38;5;124mxc\u001b[39m\u001b[38;5;124m\"\u001b[39m: \u001b[38;5;241m1.0\u001b[39m,\n\u001b[1;32m   (...)\u001b[0m\n\u001b[0;32m     32\u001b[0m     \u001b[38;5;124m\"\u001b[39m\u001b[38;5;124mbc\u001b[39m\u001b[38;5;124m\"\u001b[39m: \u001b[38;5;241m1.0\u001b[39m,\n\u001b[0;32m     33\u001b[0m }\n\u001b[0;32m     36\u001b[0m \u001b[38;5;129m@dataclass\u001b[39m\n\u001b[0;32m     37\u001b[0m \u001b[38;5;28;01mclass\u001b[39;00m \u001b[38;5;21;01mBVPModel\u001b[39;00m:\n",
      "\u001b[1;31mTypeError\u001b[0m: unsupported operand type(s) for -: 'tuple' and 'complex'"
     ]
    }
   ],
   "source": [
    "bvp_model.losses(\n",
    "    params,\n",
    "    coeffs,\n",
    "    next(data_iterator),\n",
    "    next(dom_iterator),\n",
    "    next(bnd_iterator),\n",
    ")"
   ]
  }
 ],
 "metadata": {
  "kernelspec": {
   "display_name": "pyimpedance",
   "language": "python",
   "name": "python3"
  },
  "language_info": {
   "codemirror_mode": {
    "name": "ipython",
    "version": 3
   },
   "file_extension": ".py",
   "mimetype": "text/x-python",
   "name": "python",
   "nbconvert_exporter": "python",
   "pygments_lexer": "ipython3",
   "version": "3.11.5"
  }
 },
 "nbformat": 4,
 "nbformat_minor": 2
}

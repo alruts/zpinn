{
 "cells": [
  {
   "cell_type": "code",
   "execution_count": 58,
   "metadata": {},
   "outputs": [],
   "source": [
    "from src.zpinn.dataio import DomainSampler\n",
    "\n",
    "sampler_ = BoundarySampler(\n",
    "    batch_size=16,\n",
    "    limits={\n",
    "        \"x\": (-1, 1),\n",
    "        \"y\": (-1, 1),\n",
    "    },\n",
    "    transforms={\n",
    "        \"x\": (0, 1),\n",
    "        \"y\": (0, 1),\n",
    "    },\n",
    "    distributions={\n",
    "        \"x\": \"uniform\",\n",
    "        \"y\": \"uniform\",\n",
    "    },\n",
    ")\n",
    "\n",
    "\n"
   ]
  },
  {
   "cell_type": "code",
   "execution_count": 59,
   "metadata": {},
   "outputs": [],
   "source": [
    "from jax import jit\n",
    "\n",
    "it = iter(sampler_)\n"
   ]
  },
  {
   "cell_type": "code",
   "execution_count": 71,
   "metadata": {},
   "outputs": [
    {
     "data": {
      "text/plain": [
       "{'x': Array([[ 0.920238  ,  0.40242863,  0.7090008 ,  0.5197599 , -0.04664493,\n",
       "         -0.88632727,  0.47818756, -0.65142274, -0.94572496,  0.19426942,\n",
       "          0.615057  , -0.9988589 ,  0.8795204 , -0.5445268 , -0.5580056 ,\n",
       "         -0.07464147]], dtype=float32),\n",
       " 'y': Array([[ 0.8602166 , -0.74445295, -0.5712714 ,  0.6199231 ,  0.86301494,\n",
       "         -0.6189494 , -0.18498182,  0.6762333 ,  0.45768213, -0.5968361 ,\n",
       "         -0.44151926, -0.05533195, -0.8431959 ,  0.5280535 ,  0.38740087,\n",
       "         -0.6580889 ]], dtype=float32)}"
      ]
     },
     "execution_count": 71,
     "metadata": {},
     "output_type": "execute_result"
    }
   ],
   "source": [
    "it = iter(sampler_)\n",
    "next(it)"
   ]
  },
  {
   "cell_type": "code",
   "execution_count": null,
   "metadata": {},
   "outputs": [],
   "source": []
  }
 ],
 "metadata": {
  "kernelspec": {
   "display_name": "pyimpedance",
   "language": "python",
   "name": "python3"
  },
  "language_info": {
   "codemirror_mode": {
    "name": "ipython",
    "version": 3
   },
   "file_extension": ".py",
   "mimetype": "text/x-python",
   "name": "python",
   "nbconvert_exporter": "python",
   "pygments_lexer": "ipython3",
   "version": "3.11.5"
  }
 },
 "nbformat": 4,
 "nbformat_minor": 2
}
